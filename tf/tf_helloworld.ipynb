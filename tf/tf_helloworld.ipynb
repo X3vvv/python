{
 "cells": [
  {
   "cell_type": "code",
   "execution_count": 1,
   "id": "f2b03b23-9f23-4ad3-aa46-65ed090b5068",
   "metadata": {},
   "outputs": [],
   "source": [
    "import tensorflow as tf\n",
    "from tensorflow import keras"
   ]
  },
  {
   "cell_type": "code",
   "execution_count": 2,
   "id": "9a478141-8769-4e76-834c-9e5bcc4aec32",
   "metadata": {},
   "outputs": [],
   "source": [
    "mnist = tf.keras.datasets.mnist"
   ]
  },
  {
   "cell_type": "code",
   "execution_count": 3,
   "id": "30a97c0f-a35a-420c-926f-bed49d59ab0a",
   "metadata": {},
   "outputs": [],
   "source": [
    "(x_train, y_train), (x_test, y_test) = mnist.load_data()"
   ]
  },
  {
   "cell_type": "code",
   "execution_count": 4,
   "id": "f50ca357-a0dc-4092-bd58-b27b709a8f63",
   "metadata": {},
   "outputs": [
    {
     "data": {
      "text/plain": [
       "(10000, 28, 28)"
      ]
     },
     "execution_count": 4,
     "metadata": {},
     "output_type": "execute_result"
    }
   ],
   "source": [
    "x_test.shape"
   ]
  },
  {
   "cell_type": "code",
   "execution_count": 5,
   "id": "64d7bef3-e585-447c-bbce-4deaf0501d9d",
   "metadata": {},
   "outputs": [
    {
     "data": {
      "text/plain": [
       "(60000, 28, 28)"
      ]
     },
     "execution_count": 5,
     "metadata": {},
     "output_type": "execute_result"
    }
   ],
   "source": [
    "x_train.shape"
   ]
  },
  {
   "cell_type": "code",
   "execution_count": 6,
   "id": "63112dd0-1173-4bc5-9425-d98ac79bc32c",
   "metadata": {},
   "outputs": [],
   "source": [
    "# normalize improve the behavior of the network (significantly!)\n",
    "# x_train, x_test = x_train/255, x_test/255\n",
    "x_train = tf.keras.utils.normalize(x_train, axis=1)\n",
    "x_test = tf.keras.utils.normalize(x_test, axis=1)"
   ]
  },
  {
   "cell_type": "code",
   "execution_count": 7,
   "id": "929b5020-c6ab-43e0-96ea-11e6d9cc3ba8",
   "metadata": {},
   "outputs": [
    {
     "name": "stdout",
     "output_type": "stream",
     "text": [
      "[0.         0.         0.         0.         0.         0.\n",
      " 0.         0.         0.         0.         0.         0.\n",
      " 0.00393124 0.02332955 0.02620568 0.02625207 0.17420356 0.17566281\n",
      " 0.28629534 0.05664824]\n"
     ]
    }
   ],
   "source": [
    "print(x_train[0].flatten()[140:160])"
   ]
  },
  {
   "cell_type": "code",
   "execution_count": 8,
   "id": "23ee20b5-98b1-4469-b4a8-37bc26f10bc0",
   "metadata": {},
   "outputs": [
    {
     "data": {
      "image/png": "[encoded data removed]",
      "text/plain": [
       "<Figure size 432x288 with 1 Axes>"
      ]
     },
     "metadata": {
      "needs_background": "light"
     },
     "output_type": "display_data"
    }
   ],
   "source": [
    "import matplotlib.pyplot as plt\n",
    "\n",
    "plt.imshow(x_train[0], cmap=plt.cm.binary)\n",
    "plt.show()"
   ]
  },
  {
   "cell_type": "code",
   "execution_count": 9,
   "id": "619240b1-9dc1-4ad7-8428-34ea41aafbcf",
   "metadata": {},
   "outputs": [
    {
     "data": {
      "text/plain": [
       "\"\\n# Another way to do that\\nmodel = tf.keras.models.Sequential([\\n    tf.keras.layers.Flatten(input_shape=(28,28)),\\n    tf.keras.layers.Dense(128, activation='relu'),\\n    tf.keras.layers.Dropout(0.2),\\n    tf.keras.layers.Dense(10, activation='softmax')\\n])\""
      ]
     },
     "execution_count": 9,
     "metadata": {},
     "output_type": "execute_result"
    }
   ],
   "source": [
    "model = tf.keras.models.Sequential()\n",
    "# input layer (np.reshape() = Flatten())\n",
    "model.add(tf.keras.layers.Flatten())\n",
    "# hidden layers (Dense layer with 128 neurals, relu as default, 2 layers)\n",
    "model.add(tf.keras.layers.Dense(128, activation=tf.nn.relu))\n",
    "model.add(tf.keras.layers.Dense(128, activation=tf.nn.relu))\n",
    "# output layer (softmax for probability distribution)\n",
    "model.add(tf.keras.layers.Dense(10, activation=tf.nn.softmax))\n",
    "'''\n",
    "# Another way to do that\n",
    "model = tf.keras.models.Sequential([\n",
    "    tf.keras.layers.Flatten(input_shape=(28,28)),\n",
    "    tf.keras.layers.Dense(128, activation='relu'),\n",
    "    tf.keras.layers.Dropout(0.2),\n",
    "    tf.keras.layers.Dense(10, activation='softmax')\n",
    "])'''"
   ]
  },
  {
   "cell_type": "code",
   "execution_count": 10,
   "id": "6ac2cc6d-eb2a-4272-a458-012e426c188c",
   "metadata": {},
   "outputs": [],
   "source": [
    "model.compile(optimizer='adam', # 'adam' is better than stochastic gredient decent\n",
    "             loss='sparse_categorical_crossentropy',  # could be sth. like binary\n",
    "             metrics=['accuracy'])  # we want to track accuracy metricx"
   ]
  },
  {
   "cell_type": "code",
   "execution_count": 11,
   "id": "3609b719-88bb-4951-a835-ab874ba19d51",
   "metadata": {},
   "outputs": [
    {
     "name": "stdout",
     "output_type": "stream",
     "text": [
      "Epoch 1/5\n",
      "1875/1875 [==============================] - 1s 556us/step - loss: 0.2656 - accuracy: 0.9215\n",
      "Epoch 2/5\n",
      "1875/1875 [==============================] - 1s 538us/step - loss: 0.1057 - accuracy: 0.9678\n",
      "Epoch 3/5\n",
      "1875/1875 [==============================] - 1s 529us/step - loss: 0.0729 - accuracy: 0.9766\n",
      "Epoch 4/5\n",
      "1875/1875 [==============================] - 1s 544us/step - loss: 0.0528 - accuracy: 0.9834\n",
      "Epoch 5/5\n",
      "1875/1875 [==============================] - 1s 555us/step - loss: 0.0410 - accuracy: 0.9865\n"
     ]
    },
    {
     "data": {
      "text/plain": [
       "<tensorflow.python.keras.callbacks.History at 0x1455acfd550>"
      ]
     },
     "execution_count": 11,
     "metadata": {},
     "output_type": "execute_result"
    }
   ],
   "source": [
    "model.fit(x_train, y_train, epochs=5)"
   ]
  },
  {
   "cell_type": "code",
   "execution_count": 12,
   "id": "7647080e-179e-428a-bf1b-c4bc1c6c877b",
   "metadata": {},
   "outputs": [
    {
     "name": "stdout",
     "output_type": "stream",
     "text": [
      "313/313 [==============================] - 0s 411us/step - loss: 0.0921 - accuracy: 0.9717\n",
      "0.09210125356912613 0.9717000126838684\n"
     ]
    }
   ],
   "source": [
    "# try on test set to see whether overfit\n",
    "validation_loss, validation_accuracy = model.evaluate(x_test, y_test)\n",
    "print(validation_loss, validation_accuracy)"
   ]
  },
  {
   "cell_type": "code",
   "execution_count": 13,
   "id": "756fc9d2-fc91-4f40-884d-4b38c05ee528",
   "metadata": {},
   "outputs": [
    {
     "name": "stdout",
     "output_type": "stream",
     "text": [
      "WARNING:tensorflow:From Q:\\App\\anaconda3\\envs\\tf-fed\\lib\\site-packages\\tensorflow\\python\\training\\tracking\\tracking.py:111: Model.state_updates (from tensorflow.python.keras.engine.training) is deprecated and will be removed in a future version.\n",
      "Instructions for updating:\n",
      "This property should not be used in TensorFlow 2.0, as updates are applied automatically.\n",
      "WARNING:tensorflow:From Q:\\App\\anaconda3\\envs\\tf-fed\\lib\\site-packages\\tensorflow\\python\\training\\tracking\\tracking.py:111: Layer.updates (from tensorflow.python.keras.engine.base_layer) is deprecated and will be removed in a future version.\n",
      "Instructions for updating:\n",
      "This property should not be used in TensorFlow 2.0, as updates are applied automatically.\n",
      "INFO:tensorflow:Assets written to: epic_num_reader.model\\assets\n"
     ]
    }
   ],
   "source": [
    "# save a model, making it easier to reload\n",
    "model.save('epic_num_reader.model')"
   ]
  },
  {
   "cell_type": "code",
   "execution_count": 14,
   "id": "6b9cf83a-c637-4308-9ff5-ede1a82667f2",
   "metadata": {},
   "outputs": [],
   "source": [
    "# load and use the saved model\n",
    "new_model = tf.keras.models.load_model('epic_num_reader.model')\n",
    "predictions = new_model.predict(x_test)"
   ]
  },
  {
   "cell_type": "code",
   "execution_count": 15,
   "id": "61413ba5-3b2b-4065-b440-c2e3fb6279be",
   "metadata": {},
   "outputs": [
    {
     "name": "stdout",
     "output_type": "stream",
     "text": [
      "[[1.74981185e-09 6.30225205e-09 4.92978756e-07 ... 9.99995947e-01\n",
      "  3.36918410e-10 2.05213283e-07]\n",
      " [2.67603079e-10 9.55658152e-07 9.99999046e-01 ... 1.52940143e-11\n",
      "  8.41994183e-11 7.84013865e-15]\n",
      " [9.70842677e-08 9.99698162e-01 1.30810085e-05 ... 4.04311832e-05\n",
      "  2.42739174e-04 3.14110849e-07]\n",
      " ...\n",
      " [6.97822529e-12 3.89683263e-09 5.66739255e-13 ... 7.09792232e-07\n",
      "  1.39973133e-09 9.09834228e-07]\n",
      " [9.11120512e-10 1.73332182e-09 2.77308454e-10 ... 8.83637963e-09\n",
      "  1.17677206e-04 3.36264683e-10]\n",
      " [7.90393351e-09 7.54972884e-09 7.98410138e-09 ... 3.58369476e-13\n",
      "  1.57250852e-08 2.59114496e-12]]\n"
     ]
    }
   ],
   "source": [
    "# directly print the 'prediction' is messy\n",
    "# they are one-hot array indicate how likely\n",
    "# the number on the image is  0, 1, 2, ..., 9\n",
    "print(predictions)"
   ]
  },
  {
   "cell_type": "code",
   "execution_count": 27,
   "id": "391d75e8-46a0-4ec2-8098-380244009a73",
   "metadata": {},
   "outputs": [
    {
     "data": {
      "image/png": "[encoded data removed]",
      "text/plain": [
       "<Figure size 432x288 with 25 Axes>"
      ]
     },
     "metadata": {
      "needs_background": "light"
     },
     "output_type": "display_data"
    }
   ],
   "source": [
    "import numpy as np\n",
    "n_row = 5\n",
    "n_col = 5\n",
    "fig, axis = plt.subplots(n_row, n_col)\n",
    "# fig.tight_layout()\n",
    "plt.subplots_adjust(2,2,4,4)\n",
    "for i in range(n_row):\n",
    "    for j in range(n_col):\n",
    "        t = i * n_col + j\n",
    "        plt.subplot(n_row, n_col, t + 1)\n",
    "        plt.imshow(x_test[t])\n",
    "        plt.ylabel(np.argmax(predictions[t]))\n",
    "#         plt.axis('off')\n",
    "plt.show()"
   ]
  },
  {
   "cell_type": "code",
   "execution_count": null,
   "id": "79b544f9",
   "metadata": {},
   "outputs": [],
   "source": []
  }
 ],
 "metadata": {
  "kernelspec": {
   "display_name": "Python 3",
   "language": "python",
   "name": "python3"
  },
  "language_info": {
   "codemirror_mode": {
    "name": "ipython",
    "version": 3
   },
   "file_extension": ".py",
   "mimetype": "text/x-python",
   "name": "python",
   "nbconvert_exporter": "python",
   "pygments_lexer": "ipython3",
   "version": "3.8.10"
  }
 },
 "nbformat": 4,
 "nbformat_minor": 5
}
